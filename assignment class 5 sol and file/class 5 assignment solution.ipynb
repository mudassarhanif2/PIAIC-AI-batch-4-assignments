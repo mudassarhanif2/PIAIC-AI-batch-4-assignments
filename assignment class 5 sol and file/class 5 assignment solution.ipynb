{
 "cells": [
  {
   "cell_type": "code",
   "execution_count": 1,
   "metadata": {},
   "outputs": [],
   "source": [
    "# ### Assignments:\n",
    "# Here is your assignment tasks.\n",
    "# #### 1. Calculate area of circle.\n",
    "# You have given radius of circle. You need to write a function `calcArea` to calculate its area. Where `pi=3.14`.\n",
    "# You have to access following test cases.\n",
    "# > Set `pi` as default argument\n",
    "# ```python\n",
    "# r = 8.7\n",
    "# r = 9.2\n",
    "# r = 16.03\n",
    "# ```"
   ]
  },
  {
   "cell_type": "code",
   "execution_count": 2,
   "metadata": {},
   "outputs": [],
   "source": [
    "def calcArea(r, pi = 3.14):\n",
    "    area = pi* r**2\n",
    "    return area"
   ]
  },
  {
   "cell_type": "code",
   "execution_count": 3,
   "metadata": {},
   "outputs": [
    {
     "data": {
      "text/plain": [
       "237.66659999999996"
      ]
     },
     "execution_count": 3,
     "metadata": {},
     "output_type": "execute_result"
    }
   ],
   "source": [
    "calcArea(8.7)"
   ]
  },
  {
   "cell_type": "code",
   "execution_count": 4,
   "metadata": {},
   "outputs": [
    {
     "data": {
      "text/plain": [
       "265.76959999999997"
      ]
     },
     "execution_count": 4,
     "metadata": {},
     "output_type": "execute_result"
    }
   ],
   "source": [
    "calcArea(9.2)"
   ]
  },
  {
   "cell_type": "code",
   "execution_count": 5,
   "metadata": {},
   "outputs": [
    {
     "data": {
      "text/plain": [
       "806.8572260000002"
      ]
     },
     "execution_count": 5,
     "metadata": {},
     "output_type": "execute_result"
    }
   ],
   "source": [
    "calcArea(16.03)"
   ]
  },
  {
   "cell_type": "code",
   "execution_count": 6,
   "metadata": {},
   "outputs": [],
   "source": [
    "# #### 2. Write function to check if a value exists in a list\n",
    "# You have to create a function `checkVal` that accepts a list and finds a number in that list.\n",
    "# You will not use built-in function.\n",
    "# **hint:**\n",
    "# > Use loop (while/for)\n",
    "# > Use comparision operator\n",
    "# You have this data given\n",
    "# data = [\"python\", \"r\", \"java\", \"pascal\", \"c\", \"javascript\", \"assembley\", \"html\", \"c++\"]\n",
    "\n",
    "# # Value to find\n",
    "# \"python\"\n",
    "# \"html\"\n",
    "# \"c\""
   ]
  },
  {
   "cell_type": "code",
   "execution_count": 7,
   "metadata": {},
   "outputs": [],
   "source": [
    "data = [\"python\", \"r\", \"java\", \"pascal\", \"c\", \"javascript\", \"assembley\", \"html\", \"c++\"]"
   ]
  },
  {
   "cell_type": "code",
   "execution_count": 8,
   "metadata": {},
   "outputs": [],
   "source": [
    "lst = [\"3\",\"4\",1, \"s\"]"
   ]
  },
  {
   "cell_type": "code",
   "execution_count": 9,
   "metadata": {},
   "outputs": [],
   "source": [
    "def checkVal(a_list):\n",
    "    value = input(\"Enter the value you want to find:  \")\n",
    "    for x in a_list:\n",
    "        if value == x:\n",
    "            print(\"ok\")\n",
    "            break\n",
    "    else:\n",
    "        print(\"value not containes in the list\")"
   ]
  },
  {
   "cell_type": "code",
   "execution_count": 10,
   "metadata": {},
   "outputs": [
    {
     "name": "stdout",
     "output_type": "stream",
     "text": [
      "Enter the value you want to find:  r\n",
      "value not containes in the list\n"
     ]
    }
   ],
   "source": [
    "checkVal(lst)"
   ]
  },
  {
   "cell_type": "code",
   "execution_count": 11,
   "metadata": {},
   "outputs": [],
   "source": [
    "# #### 3. Write a function to shift list item to right n times\n",
    "# You have given a data list.\n",
    "# You have to write a function `shiftItems` which accepts 2 parameters `ListName` and `n`(No of times to shift)\n",
    "# ```python\n",
    "# data = [\"python\", \"r\", \"java\", \"pascal\", \"c\", \"javascript\", \"assembley\", \"html\", \"c++\"]\n",
    "# ```\n",
    "# If we want to shift its values 3 times to right, so output will be like\n",
    "# ```\n",
    "# data = [\"assembley\", \"html\", \"c++\", \"python\", \"r\", \"java\", \"pascal\", \"c\", \"javascript\"]\n",
    "# ```\n",
    "# If we shift it 1 time out will be\n",
    "# ```python\n",
    "# data = [\"c++\", \"python\", \"r\", \"java\", \"pascal\", \"c\", \"javascript\", \"assembley\", \"html\"]\n",
    "# ```\n",
    "# Your task is to write a function for this to shift items."
   ]
  },
  {
   "cell_type": "code",
   "execution_count": 12,
   "metadata": {},
   "outputs": [],
   "source": [
    "data = [\"python\", \"r\", \"java\", \"pascal\", \"c\", \"javascript\", \"assembley\", \"html\", \"c++\"]"
   ]
  },
  {
   "cell_type": "code",
   "execution_count": 13,
   "metadata": {},
   "outputs": [],
   "source": [
    "def shiftItem(listName, n):\n",
    "    for i in range(n):\n",
    "        x = listName.pop(-1)\n",
    "        listName.insert(0, x)\n",
    "        data = [\"python\", \"r\", \"java\", \"pascal\", \"c\", \"javascript\", \"assembley\", \"html\", \"c++\"]\n",
    "    print(listName)"
   ]
  },
  {
   "cell_type": "code",
   "execution_count": 14,
   "metadata": {},
   "outputs": [
    {
     "name": "stdout",
     "output_type": "stream",
     "text": [
      "['assembley', 'html', 'c++', 'python', 'r', 'java', 'pascal', 'c', 'javascript']\n"
     ]
    }
   ],
   "source": [
    "shiftItem(data, 3)"
   ]
  },
  {
   "cell_type": "code",
   "execution_count": 15,
   "metadata": {},
   "outputs": [
    {
     "name": "stdout",
     "output_type": "stream",
     "text": [
      "['javascript', 'assembley', 'html', 'c++', 'python', 'r', 'java', 'pascal', 'c']\n"
     ]
    }
   ],
   "source": [
    "shiftItem(data, 1)"
   ]
  },
  {
   "cell_type": "code",
   "execution_count": 16,
   "metadata": {},
   "outputs": [],
   "source": [
    "# #### 4.\n",
    "# Use while loop to get data\n",
    "# You have to write a while loop to get input from user for `radius of circle`.\n",
    "# If user enters `quit`, break the loop, otherwise call `calcArea` function to get area of cricle from radius\n",
    "# and print `area of circle`."
   ]
  },
  {
   "cell_type": "code",
   "execution_count": 19,
   "metadata": {},
   "outputs": [
    {
     "name": "stdout",
     "output_type": "stream",
     "text": [
      "Enter radius of circle:  5\n",
      "Area of circle is =  78.5 square units\n",
      "Enter radius of circle:  9\n",
      "Area of circle is =  254.34 square units\n",
      "Enter radius of circle:  quit\n"
     ]
    }
   ],
   "source": [
    "while True:\n",
    "    def calcArea(r, pi = 3.14):\n",
    "        Area_of_circle = pi*r**2 \n",
    "        print(\"Area of circle is = \", Area_of_circle,\"square units\")\n",
    "    r = (input(\"Enter radius of circle:  \"))\n",
    "    if r == \"quit\":\n",
    "        break\n",
    "    else:\n",
    "        r = int(r)\n",
    "        calcArea(r)"
   ]
  },
  {
   "cell_type": "code",
   "execution_count": null,
   "metadata": {},
   "outputs": [],
   "source": [
    "# #### 5. Function with `**kwargs`:\n",
    "# Write function `showDetails` that takes five positional arguments and receives as dictionary with `**kwargs`\n",
    "# and print in formatted way.\n",
    "# Input data is as follows.\n",
    "# ```python\n",
    "# name = \"Ali\", class = \"AI\",\n",
    "# marks = {\"math\" : 50, \"physics\" : 80, \"biology\" : 90, \"computer\" : 67}, date = \"1 Feb 2020\", nextClass = True\n",
    "# ```\n",
    "# Now write a function\n",
    "# ```python\n",
    "# def showDetails(**kwargs):\n",
    "#     # Your code here\n",
    "# ```\n",
    "# Output should be as follows\n",
    "# ```\n",
    "# Hello Ali\n",
    "# Here is your result for class of AI.\n",
    "# Your score card is as follows.\n",
    "# ClassMarks:\n",
    "#     math : 50\n",
    "#     physics : 80\n",
    "#     biology : 90\n",
    "#     computer : 67\n",
    "# Total marks are: 287\n",
    "# Percentage is as follows: 71.75%\n",
    "# Maximum marks are in \"Biology\"\n",
    "# Minimum marks are in \"Math\"\n",
    "# You are promoted to next class.\n",
    "# ```\n",
    "# Note\n",
    "# > Use functions and methods to solve total marks and percentage."
   ]
  },
  {
   "cell_type": "code",
   "execution_count": 1,
   "metadata": {},
   "outputs": [],
   "source": [
    "# Composed by Mudassar Hanif batch #4 roll number PIAIC76574\n",
    "def fun(marks):\n",
    "    total_marks = 0\n",
    "    for k, v in marks.items():\n",
    "        total_marks += v\n",
    "        percentage = (total_marks/(len(marks)*100))*100\n",
    "        print(\"\\t\", k, \":\", v)\n",
    "    print(\"Total marks are: \",total_marks,\"\\nPercentage is as follows: \"+str(percentage)+\"%\",)\n",
    "    for i, j in marks.items():\n",
    "        if j == max(marks.values()):\n",
    "            print('Maximum marks are in \"'+i.title()+'\"')\n",
    "    for i, j in marks.items():\n",
    "        if j == min(marks.values()):\n",
    "            print('Minimum marks are in \"'+i.title()+'\"')\n",
    "    print(\"You are promoted to next class.\")\n",
    "def showDetails(**kwargs):\n",
    "    print(\"Hello\", kwargs[\"name\"], \"\\nHere is your result of class of\", kwargs[\"Class\"], \"\\nClassMarks:\")\n",
    "    fun(kwargs[\"marks\"])"
   ]
  },
  {
   "cell_type": "code",
   "execution_count": 2,
   "metadata": {},
   "outputs": [
    {
     "name": "stdout",
     "output_type": "stream",
     "text": [
      "Hello Ali \n",
      "Here is your result of class of AI \n",
      "ClassMarks:\n",
      "\t math : 50\n",
      "\t physics : 80\n",
      "\t biology : 90\n",
      "\t computer : 67\n",
      "Total marks are:  287 \n",
      "Percentage is as follows: 71.75%\n",
      "Maximum marks are in \"Biology\"\n",
      "Minimum marks are in \"Math\"\n",
      "You are promoted to next class.\n"
     ]
    }
   ],
   "source": [
    "showDetails(name = \"Ali\", Class = \"AI\",marks = {\"math\" : 50, \"physics\" : 80, \"biology\" : 90, \"computer\" : 67}, date = \"1 Feb 2020\", nextClass = True)"
   ]
  },
  {
   "cell_type": "code",
   "execution_count": 3,
   "metadata": {},
   "outputs": [
    {
     "name": "stdout",
     "output_type": "stream",
     "text": [
      "Hello az\n",
      "Here is your result for class of AI.\n",
      "Your score card is as follows.\n",
      "ClassMarks:\n",
      "\tmath : 50 \n",
      "\tphysics : 80 \n",
      "\tbiology : 90 \n",
      "\tcomputer : 67 \n",
      "Total marks are: 287 \n",
      "Percentage is as follows: 71.75%\n",
      "Maximum marks are in \"biology\"\n",
      "Minimum marks are in \"math\"\n",
      "You are promoted to next class.\n"
     ]
    }
   ],
   "source": [
    "# 5- Function with **kwargs\n",
    "\n",
    "# # function to return key for any value \n",
    "def func(dicto):\n",
    "    print_dic=\"\"\n",
    "    total_mark=0\n",
    "    for subjects, marks in dicto.items():\n",
    "        print_dic +=\"\\n\\t{} : {} \".format(subjects,marks)\n",
    "        # calculate total marks\n",
    "        total_mark+=marks\n",
    "        \n",
    "    # average find\n",
    "    avg = total_mark/len(dicto)\n",
    "    \n",
    "    # finding min marks\n",
    "    min_marks = min(dicto.values())\n",
    "    \n",
    "    # finding max marks\n",
    "    max_marks = max(dicto.values())\n",
    "    \n",
    "    # working on this, to get key of max/min value(subject/course name)\n",
    "    for key, value in dicto.items(): \n",
    "        if max_marks == value: \n",
    "            max_mess='Maximum marks are in \"'+key+'\"'\n",
    "        if min_marks == value: \n",
    "            min_mess='Minimum marks are in \"'+key+'\"' \n",
    "            \n",
    "    # concatinating all strings\n",
    "    str1 = '\\nTotal marks are: '+str(total_mark)+' \\nPercentage is as follows: '+str(avg)+'%\\n'+str(max_mess)+'\\n'+str(min_mess)+''\n",
    "    final_str = print_dic + str1\n",
    "    return final_str\n",
    "\n",
    "\n",
    "# function defination\n",
    "def showDetails(**dicto):\n",
    "    if dicto['nextClass'] == True:\n",
    "        m='Hello '+ dicto['name'] + '\\nHere is your result for class of '+ dicto['class_name'] + '.\\nYour score card is as follows.\\nClassMarks:'+ func(dicto['marks']) + '\\nYou are promoted to next class.'\n",
    "        print(m)\n",
    "    else:\n",
    "        m='Hello '+ dicto['name'] + '\\nHere is your result for class of '+ dicto['class_name'] + '.\\nYour score card is as follows.\\nClassMarks:'+ func(dicto['marks']) + '\\nYou are not promoted to next class.'\n",
    "        print(m)\n",
    "    \n",
    "# calling function, with some arguments\n",
    "showDetails(name = \"az\", class_name = \"AI\", marks = {\"math\" : 50, \"physics\" : 80, \"biology\" : 90, \"computer\" : 67}, date = \"1 Feb 2020\", nextClass = True)"
   ]
  },
  {
   "cell_type": "code",
   "execution_count": null,
   "metadata": {},
   "outputs": [],
   "source": []
  }
 ],
 "metadata": {
  "kernelspec": {
   "display_name": "Python 3",
   "language": "python",
   "name": "python3"
  },
  "language_info": {
   "codemirror_mode": {
    "name": "ipython",
    "version": 3
   },
   "file_extension": ".py",
   "mimetype": "text/x-python",
   "name": "python",
   "nbconvert_exporter": "python",
   "pygments_lexer": "ipython3",
   "version": "3.7.4"
  }
 },
 "nbformat": 4,
 "nbformat_minor": 2
}
