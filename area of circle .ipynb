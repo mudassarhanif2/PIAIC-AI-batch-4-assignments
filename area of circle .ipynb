{
 "cells": [
  {
   "cell_type": "code",
   "execution_count": 2,
   "metadata": {},
   "outputs": [
    {
     "name": "stdout",
     "output_type": "stream",
     "text": [
      "Enter radius of circle = 5\n",
      "Area of circle = 78.5 square units\n"
     ]
    }
   ],
   "source": [
    "pi = 3.14\n",
    "radius = float(input(\"Enter radius of circle = \"))\n",
    "area = pi*radius*radius\n",
    "print(f\"Area of circle = {area} square units\")"
   ]
  },
  {
   "cell_type": "markdown",
   "metadata": {},
   "source": [
    "# OR"
   ]
  },
  {
   "cell_type": "code",
   "execution_count": 4,
   "metadata": {},
   "outputs": [
    {
     "name": "stdout",
     "output_type": "stream",
     "text": [
      "Enter radius of circle = 5\n",
      "Area of circle with radius 5.0 units is = 78.5 square units\n"
     ]
    }
   ],
   "source": [
    "pi = 3.14\n",
    "radius = float(input(\"Enter radius of circle = \"))\n",
    "area = pi*radius*radius\n",
    "print(f\"Area of circle with radius {radius} units is = {area} square units\")"
   ]
  },
  {
   "cell_type": "markdown",
   "metadata": {},
   "source": [
    "# OR"
   ]
  },
  {
   "cell_type": "code",
   "execution_count": 1,
   "metadata": {},
   "outputs": [
    {
     "name": "stdout",
     "output_type": "stream",
     "text": [
      "Enter radius of circle = 5\n",
      "Area of circle of radius 5.0 is = 78.5 square units \n"
     ]
    }
   ],
   "source": [
    "pi = 3.14\n",
    "r = float(input(\"Enter radius of circle = \"))\n",
    "area = pi*r*r\n",
    "print (\"Area of circle of radius {0} is = {1} square units \".format (r, area))"
   ]
  },
  {
   "cell_type": "code",
   "execution_count": null,
   "metadata": {},
   "outputs": [],
   "source": []
  }
 ],
 "metadata": {
  "kernelspec": {
   "display_name": "Python 3",
   "language": "python",
   "name": "python3"
  },
  "language_info": {
   "codemirror_mode": {
    "name": "ipython",
    "version": 3
   },
   "file_extension": ".py",
   "mimetype": "text/x-python",
   "name": "python",
   "nbconvert_exporter": "python",
   "pygments_lexer": "ipython3",
   "version": "3.7.4"
  }
 },
 "nbformat": 4,
 "nbformat_minor": 2
}
