{
 "cells": [
  {
   "cell_type": "markdown",
   "metadata": {},
   "source": [
    "# AI batch 4 class 1 assignment solution"
   ]
  },
  {
   "cell_type": "code",
   "execution_count": 4,
   "metadata": {},
   "outputs": [
    {
     "name": "stdout",
     "output_type": "stream",
     "text": [
      "Hello Mudassar Hanif your application is accepted for Artificial Intelligence in PIAIC Faisalabad\n"
     ]
    }
   ],
   "source": [
    "name = \"Mudassar Hanif\"\n",
    "age = 29\n",
    "clas = \"Artificial Intelligence\"\n",
    "university = \"PIAIC Faisalabad\"\n",
    "print(f\"Hello {name} your application is accepted for {clas} in {university}\")"
   ]
  },
  {
   "cell_type": "code",
   "execution_count": 5,
   "metadata": {},
   "outputs": [
    {
     "name": "stdout",
     "output_type": "stream",
     "text": [
      "Faisalabad Islamabad Karachi Lahore Quetta\n",
      "93.4 95 98.7 87.4 83.02\n",
      "45 70 54 90 42\n"
     ]
    }
   ],
   "source": [
    "cities=[\"Faisalabad\",\"Islamabad\",\"Karachi\",\"Lahore\",\"Quetta\"]\n",
    "result=[93.4, 95, 98.7, 87.4, 83.02]\n",
    "score=[45, 70, 54, 90, 42]\n",
    "print(*cities)\n",
    "print(*result)\n",
    "print(*score)"
   ]
  },
  {
   "cell_type": "markdown",
   "metadata": {},
   "source": [
    "# OR"
   ]
  },
  {
   "cell_type": "code",
   "execution_count": 6,
   "metadata": {},
   "outputs": [
    {
     "name": "stdout",
     "output_type": "stream",
     "text": [
      "['Faisalabad', 'Islamabad', 'Karachi', 'Lahore', 'Quetta']\n",
      "[93.4, 95, 98.7, 87.4, 83.02]\n",
      "[45, 70, 54, 90, 42]\n"
     ]
    }
   ],
   "source": [
    "cities=[\"Faisalabad\",\"Islamabad\",\"Karachi\",\"Lahore\",\"Quetta\"]\n",
    "result=[93.4, 95, 98.7, 87.4, 83.02]\n",
    "score=[45, 70, 54, 90, 42]\n",
    "print(f\"\"\"{cities}\n",
    "{result}\n",
    "{score}\"\"\")"
   ]
  }
 ],
 "metadata": {
  "kernelspec": {
   "display_name": "Python 3",
   "language": "python",
   "name": "python3"
  },
  "language_info": {
   "codemirror_mode": {
    "name": "ipython",
    "version": 3
   },
   "file_extension": ".py",
   "mimetype": "text/x-python",
   "name": "python",
   "nbconvert_exporter": "python",
   "pygments_lexer": "ipython3",
   "version": "3.7.4"
  }
 },
 "nbformat": 4,
 "nbformat_minor": 2
}
